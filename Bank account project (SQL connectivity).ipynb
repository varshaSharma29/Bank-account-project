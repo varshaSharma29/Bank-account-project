{
 "cells": [
  {
   "cell_type": "code",
   "execution_count": 1,
   "id": "128f86c0-9d12-4e90-8797-f7afe66db052",
   "metadata": {},
   "outputs": [
    {
     "name": "stdout",
     "output_type": "stream",
     "text": [
      "----------------------Bank Account Menu--------------------------\n",
      "1. Create Account\n",
      "2. Deposit Amount\n",
      "3. Withdraw Amount\n",
      "4. Delete Account\n",
      "5. Check Balance\n",
      "6. Display Accounts\n",
      "7. Exit\n"
     ]
    },
    {
     "name": "stdin",
     "output_type": "stream",
     "text": [
      "Enter your choice:  6\n"
     ]
    },
    {
     "name": "stdout",
     "output_type": "stream",
     "text": [
      "Account Number: 1\n",
      "Name: sumit\n",
      "Balance: 2390.00\n",
      "------------------------\n",
      "----------------------Bank Account Menu--------------------------\n",
      "1. Create Account\n",
      "2. Deposit Amount\n",
      "3. Withdraw Amount\n",
      "4. Delete Account\n",
      "5. Check Balance\n",
      "6. Display Accounts\n",
      "7. Exit\n"
     ]
    },
    {
     "name": "stdin",
     "output_type": "stream",
     "text": [
      "Enter your choice:  2\n",
      "Enter your account number:  687687\n",
      "Enter your password:  687\n",
      "Enter amount to deposit:  66\n"
     ]
    },
    {
     "name": "stdout",
     "output_type": "stream",
     "text": [
      "Account not found or incorrect password.\n",
      "----------------------Bank Account Menu--------------------------\n",
      "1. Create Account\n",
      "2. Deposit Amount\n",
      "3. Withdraw Amount\n",
      "4. Delete Account\n",
      "5. Check Balance\n",
      "6. Display Accounts\n",
      "7. Exit\n"
     ]
    },
    {
     "name": "stdin",
     "output_type": "stream",
     "text": [
      "Enter your choice:  2\n",
      "Enter your account number:  1\n",
      "Enter your password:  sumit1234\n",
      "Enter amount to deposit:  6787\n"
     ]
    },
    {
     "name": "stdout",
     "output_type": "stream",
     "text": [
      "Amount deposited successfully. Your new balance is 9177.0\n",
      "----------------------Bank Account Menu--------------------------\n",
      "1. Create Account\n",
      "2. Deposit Amount\n",
      "3. Withdraw Amount\n",
      "4. Delete Account\n",
      "5. Check Balance\n",
      "6. Display Accounts\n",
      "7. Exit\n"
     ]
    },
    {
     "name": "stdin",
     "output_type": "stream",
     "text": [
      "Enter your choice:  3\n",
      "Enter your account number:  1\n",
      "Enter your password:  sumit1234\n",
      "Enter amount to withdraw:  564\n"
     ]
    },
    {
     "name": "stdout",
     "output_type": "stream",
     "text": [
      "Amount withdrawn successfully. Your new balance is 8613.0\n",
      "----------------------Bank Account Menu--------------------------\n",
      "1. Create Account\n",
      "2. Deposit Amount\n",
      "3. Withdraw Amount\n",
      "4. Delete Account\n",
      "5. Check Balance\n",
      "6. Display Accounts\n",
      "7. Exit\n"
     ]
    },
    {
     "name": "stdin",
     "output_type": "stream",
     "text": [
      "Enter your choice:  1\n",
      "Enter your name:  varsha\n",
      "Enter your password:  varsha9873\n",
      "Enter initial balance:  678000\n"
     ]
    },
    {
     "name": "stdout",
     "output_type": "stream",
     "text": [
      "Account created successfully. Your account number is 2\n",
      "----------------------Bank Account Menu--------------------------\n",
      "1. Create Account\n",
      "2. Deposit Amount\n",
      "3. Withdraw Amount\n",
      "4. Delete Account\n",
      "5. Check Balance\n",
      "6. Display Accounts\n",
      "7. Exit\n"
     ]
    },
    {
     "name": "stdin",
     "output_type": "stream",
     "text": [
      "Enter your choice:  6\n"
     ]
    },
    {
     "name": "stdout",
     "output_type": "stream",
     "text": [
      "Account Number: 1\n",
      "Name: sumit\n",
      "Balance: 8613.00\n",
      "------------------------\n",
      "Account Number: 2\n",
      "Name: varsha\n",
      "Balance: 678000.00\n",
      "------------------------\n",
      "----------------------Bank Account Menu--------------------------\n",
      "1. Create Account\n",
      "2. Deposit Amount\n",
      "3. Withdraw Amount\n",
      "4. Delete Account\n",
      "5. Check Balance\n",
      "6. Display Accounts\n",
      "7. Exit\n"
     ]
    },
    {
     "name": "stdin",
     "output_type": "stream",
     "text": [
      "Enter your choice:  5\n",
      "Enter your account number:  2\n",
      "Enter your password:  varsha9873\n"
     ]
    },
    {
     "name": "stdout",
     "output_type": "stream",
     "text": [
      "Your balance is 678000.00\n",
      "----------------------Bank Account Menu--------------------------\n",
      "1. Create Account\n",
      "2. Deposit Amount\n",
      "3. Withdraw Amount\n",
      "4. Delete Account\n",
      "5. Check Balance\n",
      "6. Display Accounts\n",
      "7. Exit\n"
     ]
    },
    {
     "name": "stdin",
     "output_type": "stream",
     "text": [
      "Enter your choice:  7\n"
     ]
    }
   ],
   "source": [
    "import pyodbc\n",
    "\n",
    "# SQL Server connection details\n",
    "conn = pyodbc.connect(\n",
    "    'DRIVER={ODBC Driver 17 for SQL Server};'\n",
    "    'SERVER=LAPTOP-SU8MLJA3;'\n",
    "    'DATABASE=Bank;'\n",
    "    'Trusted_Connection=yes;'\n",
    ")\n",
    "\n",
    "# Create a cursor object\n",
    "cursor = conn.cursor()\n",
    "\n",
    "# Create table if it doesn't exist\n",
    "cursor.execute('''\n",
    "    IF NOT EXISTS (SELECT * FROM sys.tables WHERE name = 'accounts')\n",
    "    CREATE TABLE accounts (\n",
    "        account_number INT IDENTITY(1,1) PRIMARY KEY,\n",
    "        name VARCHAR(255),\n",
    "        password VARCHAR(255),\n",
    "        balance DECIMAL(10, 2)\n",
    "    )\n",
    "''')\n",
    "\n",
    "# Commit the changes\n",
    "conn.commit()\n",
    "\n",
    "def create_account():\n",
    "    name = input(\"Enter your name: \")\n",
    "    password = input(\"Enter your password: \")\n",
    "    balance = float(input(\"Enter initial balance: \"))\n",
    "    cursor.execute(\"INSERT INTO accounts (name, password, balance) VALUES (?, ?, ?)\", (name, password, balance))\n",
    "    conn.commit()\n",
    "    print(\"Account created successfully. Your account number is\", cursor.execute(\"SELECT @@IDENTITY\").fetchone()[0])\n",
    "\n",
    "def deposit_amount():\n",
    "    account_number = int(input(\"Enter your account number: \"))\n",
    "    password = input(\"Enter your password: \")\n",
    "    amount = float(input(\"Enter amount to deposit: \"))\n",
    "    cursor.execute(\"SELECT * FROM accounts WHERE account_number=? AND password=?\", (account_number, password))\n",
    "    row = cursor.fetchone()\n",
    "    if row:\n",
    "        balance = float(row[3]) + amount\n",
    "        cursor.execute(\"UPDATE accounts SET balance=? WHERE account_number=? AND password=?\", (balance, account_number, password))\n",
    "        conn.commit()\n",
    "        print(\"Amount deposited successfully. Your new balance is\", balance)\n",
    "    else:\n",
    "        print(\"Account not found or incorrect password.\")\n",
    "\n",
    "def withdraw_amount():\n",
    "    account_number = int(input(\"Enter your account number: \"))\n",
    "    password = input(\"Enter your password: \")\n",
    "    amount = float(input(\"Enter amount to withdraw: \"))\n",
    "    cursor.execute(\"SELECT * FROM accounts WHERE account_number=? AND password=?\", (account_number, password))\n",
    "    row = cursor.fetchone()\n",
    "    if row:\n",
    "        if row[3] >= amount:\n",
    "            balance = float(row[3]) - amount\n",
    "            cursor.execute(\"UPDATE accounts SET balance=? WHERE account_number=? AND password=?\", (balance, account_number, password))\n",
    "            conn.commit()\n",
    "            print(\"Amount withdrawn successfully. Your new balance is\", balance)\n",
    "        else:\n",
    "            print(\"Insufficient balance.\")\n",
    "    else:\n",
    "        print(\"Account not found or incorrect password.\")\n",
    "\n",
    "def delete_account():\n",
    "    account_number = int(input(\"Enter your account number: \"))\n",
    "    password = input(\"Enter your password: \")\n",
    "    cursor.execute(\"SELECT * FROM accounts WHERE account_number=? AND password=?\", (account_number, password))\n",
    "    row = cursor.fetchone()\n",
    "    if row:\n",
    "        cursor.execute(\"DELETE FROM accounts WHERE account_number=? AND password=?\", (account_number, password))\n",
    "        conn.commit()\n",
    "        print(\"Account deleted successfully.\")\n",
    "    else:\n",
    "        print(\"Account not found or incorrect password.\")\n",
    "\n",
    "def check_balance():\n",
    "    account_number = int(input(\"Enter your account number: \"))\n",
    "    password = input(\"Enter your password: \")\n",
    "    cursor.execute(\"SELECT * FROM accounts WHERE account_number=? AND password=?\", (account_number, password))\n",
    "    row = cursor.fetchone()\n",
    "    if row:\n",
    "        print(\"Your balance is\", row[3])\n",
    "    else:\n",
    "        print(\"Account not found or incorrect password.\")\n",
    "\n",
    "def display_accounts():\n",
    "    cursor.execute(\"SELECT account_number, name, balance FROM accounts\")\n",
    "    rows = cursor.fetchall()\n",
    "    for row in rows:\n",
    "        print(\"Account Number:\", row[0])\n",
    "        print(\"Name:\", row[1])\n",
    "        print(\"Balance:\", row[2])\n",
    "        print(\"------------------------\")\n",
    "\n",
    "def main():\n",
    "    while True:\n",
    "        print(\"----------------------Bank Account Menu--------------------------\")\n",
    "        print(\"1. Create Account\")\n",
    "        print(\"2. Deposit Amount\")\n",
    "        print(\"3. Withdraw Amount\")\n",
    "        print(\"4. Delete Account\")\n",
    "        print(\"5. Check Balance\")\n",
    "        print(\"6. Display Accounts\")\n",
    "        print(\"7. Exit\")\n",
    "        choice = int(input(\"Enter your choice: \"))\n",
    "        if choice == 1:\n",
    "            create_account()\n",
    "        elif choice == 2:\n",
    "            deposit_amount()\n",
    "        elif choice == 3:\n",
    "            withdraw_amount()\n",
    "        elif choice == 4:\n",
    "            delete_account()\n",
    "        elif choice == 5:\n",
    "            check_balance()\n",
    "        elif choice == 6:\n",
    "            display_accounts()\n",
    "        elif choice == 7:\n",
    "            break\n",
    "        else:\n",
    "            print(\"Invalid choice. Please try again.\")\n",
    "\n",
    "if __name__ == \"__main__\":\n",
    "    main()\n",
    "    cursor.close()\n",
    "    conn.close()\n"
   ]
  },
  {
   "cell_type": "code",
   "execution_count": null,
   "id": "3e804a3f-6ac9-4d47-ad31-83dd23501d76",
   "metadata": {},
   "outputs": [],
   "source": []
  }
 ],
 "metadata": {
  "kernelspec": {
   "display_name": "Python 3 (ipykernel)",
   "language": "python",
   "name": "python3"
  },
  "language_info": {
   "codemirror_mode": {
    "name": "ipython",
    "version": 3
   },
   "file_extension": ".py",
   "mimetype": "text/x-python",
   "name": "python",
   "nbconvert_exporter": "python",
   "pygments_lexer": "ipython3",
   "version": "3.13.3"
  }
 },
 "nbformat": 4,
 "nbformat_minor": 5
}
